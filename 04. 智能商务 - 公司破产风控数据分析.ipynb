{
 "cells": [
  {
   "cell_type": "markdown",
   "metadata": {},
   "source": [
    "## 实验：公司破产数据分析"
   ]
  },
  {
   "cell_type": "markdown",
   "metadata": {},
   "source": [
    "### 实验概要\n",
    "\n",
    "**破产** 是由债务人发起的一种法律程序，债务人无法偿还其债权人（欠债的银行或机构）的部分或全部债务。在大多数国家，破产是由法院命令实施的。当公司无力偿还债务或履行义务时，就会发生破产。这种破产状态可以持续几个月到几年。在某些情况下，破产可能是永久性的。破产不仅是由于资金管理不善造成的，也是由于经济放缓或自然灾害等外部市场因素造成的。**破产预测** 对于预测一家公司是否会在不久的将来陷入财务困境非常有用。这可以通过一个预测模型来实现，该模型将公司划分为 **财务健全** 或 **财务不健全**（破产概率高）。一个多世纪以来，破产预测的重要性一直是金融界的一个非常重要的话题。其中一个主要原因是，债权人可以建立健全的 **风险管理体系**，从而在更大程度上减轻损失。俗话说，**预防胜于治疗**。\n",
    "\n",
    "在本实验中，我们将通过一家波兰公司的债务人案例来研究导致破产的重要因素。我们将在本实验中使用的数据包括公司的各种 **财务比率**。借助正规化技术，我们将能够缩小导致破产的重要财务比率。通过了解导致破产的因素，债权人可以建立一个监控这些财务比率的系统，并可以在违反阈值时采取行动，例如增加抵押品或提高利率。\n",
    "\n",
    "我们将使用 **探索性数据分析** 来识别财务数据中的 **疲劳预警迹象**。该数据集是关于波兰公司破产预测的。这些数据是从新兴市场信息服务处收集的。对 `2000` 年至 `2012` 年期间的破产公司进行了分析，而对 `2007` 年至 `2013` 年期间仍在运营的公司进行了评估。共有五个 ARFF (属性关系文件格式) 数据文件：分别命名为：`1year`、`2year`、`3year`、`4year` 和 `5year`。数据字段说明如下 ——\n",
    "\n",
    "- **`X1`**：净利润 / 总资产\n",
    "- **`X2`**：总负债 / 总资产\n",
    "- **`X3`**：营运资本 / 总资产\n",
    "- **`X4`**：流动资产 / 短期负债\n",
    "- **`X5`**：[（现金+短期证券+应收款项-短期负债）/（营业费用-折旧）] $\\times$ 365\n",
    "- **`X6`**：留存收益 / 总资产\n",
    "- **`X7`**：息税前利润 / 总资产\n",
    "- **`X8`**：权益账面价值 / 负债总额\n",
    "- **`X9`**：销售额 / 总资产\n",
    "- **`X10`**：权益 / 总资产\n",
    "- **`X11`**：（毛利 + 非常项目 + 财务费用）/ 总资产\n",
    "- **`X12`**：毛利/短期负债\n",
    "- **`X13`**：（毛利 + 折旧）/ 销售额\n",
    "- **`X14`**：（毛利 + 利息）/ 总资产\n",
    "- **`X15`**：（总负债 $\\times$ 365）/（毛利+折旧）\n",
    "- **`X16`**：（毛利 + 折旧）/ 总负债\n",
    "- **`X17`**：总资产 / 总负债\n",
    "- **`X18`**：毛利 / 总资产\n",
    "- **`X19`**：毛利 / 销售额\n",
    "- **`X20`**：（库存 $\\times$ 365）/ 销售额\n",
    "- **`X21`**：销售额（$n$）/ 销售额（$n-1$）\n",
    "- **`X22`**：经营活动利润 / 总资产\n",
    "- **`X23`**：净利润 / 销售额\n",
    "- **`X24`**：毛利（三年内）/ 总资产\n",
    "- **`X25`**：（股权-股本）/ 总资产\n",
    "- **`X26`**：（净利润 + 折旧）/ 总负债\n",
    "- **`X27`**：经营活动利润 / 财务费用\n",
    "- **`X28`**：营运资本 / 固定资产\n",
    "- **`X29`**：总资产对数\n",
    "- **`X30`**：（总负债 - 现金）/ 销售额\n",
    "- **`X31`**：（毛利 + 利息）/ 销售额\n",
    "- **`X32`**：（流动负债 $\\times$ 365）/ 售出产品成本\n",
    "- **`X33`**：营业费用 / 短期负债\n",
    "- **`X34`**：营业费用 / 负债总额\n",
    "- **`X35`**：销售利润 / 总资产\n",
    "- **`X36`**：总销售额 / 总资产\n",
    "- **`X37`**：（流动资产 - 存货）/ 长期负债\n",
    "- **`X38`**：固定资本 / 总资产\n",
    "- **`X39`**：销售利润 / 销售额\n",
    "- **`X40`**：（流动资产 - 存货 - 应收款项）/ 短期负债\n",
    "- **`X41`**：总负债 /（（经营活动利润 + 折旧）$\\times$（12/365））\n",
    "- **`X42`**：经营活动 / 销售利润\n",
    "- **`X43`**：周转应收款+库存周转天数\n",
    "- **`X44`**：（应收账款 $\\times$ 365）/ 销售额\n",
    "- **`X45`**：净利润 / 库存\n",
    "- **`X46`**：（流动资产 - 存货）/ 短期负债\n",
    "- **`X47`**：（库存 $\\times$ 365）/ 售出产品成本\n",
    "- **`X48`**：EBITDA（经营活动利润 - 折旧）/ 总资产\n",
    "- **`X49`**：EBITDA（经营活动利润 - 折旧）/ 销售额\n",
    "- **`X50`**：流动资产 / 总负债\n",
    "- **`X51`**：短期负债 / 总资产\n",
    "- **`X52`**：（短期负债 $\\times$ 365）/ 销售产品成本）\n",
    "- **`X53`**：权益 / 固定资产\n",
    "- **`X54`**：固定资本 / 固定资产\n",
    "- **`X55`**：营运资本\n",
    "- **`X56`**：（销售额 - 售出产品成本）/ 销售额\n",
    "- **`X57`**：（流动资产 - 存货 - 短期负债）/（销售 - 毛利 - 折旧）\n",
    "- **`X58`**：总成本 / 总销售额\n",
    "- **`X59`**：长期负债 / 权益\n",
    "- **`X60`**：销售 / 库存\n",
    "- **`X61`**：销售 / 应收款项\n",
    "- **`X62`**：（短期负债 $\\times$ 365）/ 销售额\n",
    "- **`X63`**：销售 / 短期负债\n",
    "- **`X64`**：销售 / 固定资产\n",
    "- **`Y`**：目标特征，是否破产\n",
    "\n",
    "数据集中一些最重要的术语如下：\n",
    "\n",
    "- **净利润**：从总收入中减去所有营业费用、利息和税款后剩下的金额。\n",
    "- **总负债**：一个实体所欠债务和其他财务义务的总额。\n",
    "- **总资产**：这是实体拥有的资产总额。\n",
    "- **流动资产**：指一年内可转换为现金的现金和其他资产。\n",
    "- **毛利**：这是公司扣除制造或提供服务的相关成本后的利润。\n",
    "- **库存**：这是一个公司在生产中使用的产成品或商品的完整列表。\n",
    "- **营运资本**：这是公司用于日常运营的资本。\n",
    "- **息税前利润**：指息税前利润。\n",
    "\n",
    "在本实验中，我们将采取以下方法：\n",
    "\n",
    "- 导入数据\n",
    "- 运行 pandas profiling (数据探索分析)\n",
    "- 缺失值分析\n",
    "- 执行 Imputation (使用其它记录将缺失值替换)\n",
    "- 拉索正则化 (Lasso regularization)"
   ]
  },
  {
   "cell_type": "markdown",
   "metadata": {},
   "source": [
    "### 实验目标\n",
    "\n",
    "在本实验中，我们将查看一家波兰公司的破产数据，试图了解破产背后的主要原因，以及是否有可能识别早期预警迹象。完成试验后，您将能够使用 **pandas-profiling** 执行探索性数据分析。您还将能够对两种不同类型的插补器应用缺失值处理，并成功处理数据中的不平衡。**pandas-profiling** 是专门用于为 Pandas DataFrame 生成基于 HTML 的"
   ]
  },
  {
   "cell_type": "markdown",
   "metadata": {},
   "source": [
    "### 1. 数据导入"
   ]
  },
  {
   "cell_type": "code",
   "execution_count": 1,
   "metadata": {},
   "outputs": [],
   "source": [
    "#!pip install pandas_profiling==3.1.0"
   ]
  },
  {
   "cell_type": "code",
   "execution_count": 2,
   "metadata": {
    "colab": {},
    "colab_type": "code",
    "id": "6IEzg7alFSR9"
   },
   "outputs": [],
   "source": [
    "# 忽略警告，使代码更易读\n",
    "import warnings\n",
    "warnings.filterwarnings(\"ignore\")\n",
    "warnings.filterwarnings(\"ignore\", category=DeprecationWarning)"
   ]
  },
  {
   "cell_type": "markdown",
   "metadata": {},
   "source": [
    "导入数据组织、统计操作和绘图所需的基本库 `numpy`、`pandas`、`matplotlib inline` 和 `arff`："
   ]
  },
  {
   "cell_type": "code",
   "execution_count": 3,
   "metadata": {
    "colab": {},
    "colab_type": "code",
    "id": "EA5jkZ5SFnWt"
   },
   "outputs": [],
   "source": [
    "# 用于数据组织、统计操作和绘图的基本库\n",
    "import numpy as np\n",
    "import pandas as pd\n",
    "%matplotlib inline\n",
    "\n",
    "# 用于加载 .arff 文件\n",
    "from scipy.io import arff"
   ]
  },
  {
   "cell_type": "markdown",
   "metadata": {},
   "source": [
    "下面加载数据并设置列名称。"
   ]
  },
  {
   "cell_type": "code",
   "execution_count": 4,
   "metadata": {
    "colab": {
     "base_uri": "https://localhost:8080/",
     "height": 224
    },
    "colab_type": "code",
    "id": "HCwWvo9JHoAX",
    "outputId": "0914f854-00ea-4b93-e29d-87f43b061106"
   },
   "outputs": [
    {
     "data": {
      "text/html": [
       "<div>\n",
       "<style scoped>\n",
       "    .dataframe tbody tr th:only-of-type {\n",
       "        vertical-align: middle;\n",
       "    }\n",
       "\n",
       "    .dataframe tbody tr th {\n",
       "        vertical-align: top;\n",
       "    }\n",
       "\n",
       "    .dataframe thead th {\n",
       "        text-align: right;\n",
       "    }\n",
       "</style>\n",
       "<table border=\"1\" class=\"dataframe\">\n",
       "  <thead>\n",
       "    <tr style=\"text-align: right;\">\n",
       "      <th></th>\n",
       "      <th>X1</th>\n",
       "      <th>X2</th>\n",
       "      <th>X3</th>\n",
       "      <th>X4</th>\n",
       "      <th>X5</th>\n",
       "      <th>X6</th>\n",
       "      <th>X7</th>\n",
       "      <th>X8</th>\n",
       "      <th>X9</th>\n",
       "      <th>X10</th>\n",
       "      <th>...</th>\n",
       "      <th>X56</th>\n",
       "      <th>X57</th>\n",
       "      <th>X58</th>\n",
       "      <th>X59</th>\n",
       "      <th>X60</th>\n",
       "      <th>X61</th>\n",
       "      <th>X62</th>\n",
       "      <th>X63</th>\n",
       "      <th>X64</th>\n",
       "      <th>Y</th>\n",
       "    </tr>\n",
       "  </thead>\n",
       "  <tbody>\n",
       "    <tr>\n",
       "      <th>0</th>\n",
       "      <td>0.200550</td>\n",
       "      <td>0.37951</td>\n",
       "      <td>0.39641</td>\n",
       "      <td>2.0472</td>\n",
       "      <td>32.3510</td>\n",
       "      <td>0.38825</td>\n",
       "      <td>0.249760</td>\n",
       "      <td>1.33050</td>\n",
       "      <td>1.1389</td>\n",
       "      <td>0.50494</td>\n",
       "      <td>...</td>\n",
       "      <td>0.121960</td>\n",
       "      <td>0.39718</td>\n",
       "      <td>0.87804</td>\n",
       "      <td>0.001924</td>\n",
       "      <td>8.4160</td>\n",
       "      <td>5.1372</td>\n",
       "      <td>82.658</td>\n",
       "      <td>4.4158</td>\n",
       "      <td>7.4277</td>\n",
       "      <td>b'0'</td>\n",
       "    </tr>\n",
       "    <tr>\n",
       "      <th>1</th>\n",
       "      <td>0.209120</td>\n",
       "      <td>0.49988</td>\n",
       "      <td>0.47225</td>\n",
       "      <td>1.9447</td>\n",
       "      <td>14.7860</td>\n",
       "      <td>0.00000</td>\n",
       "      <td>0.258340</td>\n",
       "      <td>0.99601</td>\n",
       "      <td>1.6996</td>\n",
       "      <td>0.49788</td>\n",
       "      <td>...</td>\n",
       "      <td>0.121300</td>\n",
       "      <td>0.42002</td>\n",
       "      <td>0.85300</td>\n",
       "      <td>0.000000</td>\n",
       "      <td>4.1486</td>\n",
       "      <td>3.2732</td>\n",
       "      <td>107.350</td>\n",
       "      <td>3.4000</td>\n",
       "      <td>60.9870</td>\n",
       "      <td>b'0'</td>\n",
       "    </tr>\n",
       "    <tr>\n",
       "      <th>2</th>\n",
       "      <td>0.248660</td>\n",
       "      <td>0.69592</td>\n",
       "      <td>0.26713</td>\n",
       "      <td>1.5548</td>\n",
       "      <td>-1.1523</td>\n",
       "      <td>0.00000</td>\n",
       "      <td>0.309060</td>\n",
       "      <td>0.43695</td>\n",
       "      <td>1.3090</td>\n",
       "      <td>0.30408</td>\n",
       "      <td>...</td>\n",
       "      <td>0.241140</td>\n",
       "      <td>0.81774</td>\n",
       "      <td>0.76599</td>\n",
       "      <td>0.694840</td>\n",
       "      <td>4.9909</td>\n",
       "      <td>3.9510</td>\n",
       "      <td>134.270</td>\n",
       "      <td>2.7185</td>\n",
       "      <td>5.2078</td>\n",
       "      <td>b'0'</td>\n",
       "    </tr>\n",
       "    <tr>\n",
       "      <th>3</th>\n",
       "      <td>0.081483</td>\n",
       "      <td>0.30734</td>\n",
       "      <td>0.45879</td>\n",
       "      <td>2.4928</td>\n",
       "      <td>51.9520</td>\n",
       "      <td>0.14988</td>\n",
       "      <td>0.092704</td>\n",
       "      <td>1.86610</td>\n",
       "      <td>1.0571</td>\n",
       "      <td>0.57353</td>\n",
       "      <td>...</td>\n",
       "      <td>0.054015</td>\n",
       "      <td>0.14207</td>\n",
       "      <td>0.94598</td>\n",
       "      <td>0.000000</td>\n",
       "      <td>4.5746</td>\n",
       "      <td>3.6147</td>\n",
       "      <td>86.435</td>\n",
       "      <td>4.2228</td>\n",
       "      <td>5.5497</td>\n",
       "      <td>b'0'</td>\n",
       "    </tr>\n",
       "    <tr>\n",
       "      <th>4</th>\n",
       "      <td>0.187320</td>\n",
       "      <td>0.61323</td>\n",
       "      <td>0.22960</td>\n",
       "      <td>1.4063</td>\n",
       "      <td>-7.3128</td>\n",
       "      <td>0.18732</td>\n",
       "      <td>0.187320</td>\n",
       "      <td>0.63070</td>\n",
       "      <td>1.1559</td>\n",
       "      <td>0.38677</td>\n",
       "      <td>...</td>\n",
       "      <td>0.134850</td>\n",
       "      <td>0.48431</td>\n",
       "      <td>0.86515</td>\n",
       "      <td>0.124440</td>\n",
       "      <td>6.3985</td>\n",
       "      <td>4.3158</td>\n",
       "      <td>127.210</td>\n",
       "      <td>2.8692</td>\n",
       "      <td>7.8980</td>\n",
       "      <td>b'0'</td>\n",
       "    </tr>\n",
       "  </tbody>\n",
       "</table>\n",
       "<p>5 rows × 65 columns</p>\n",
       "</div>"
      ],
      "text/plain": [
       "         X1       X2       X3      X4       X5       X6        X7       X8  \\\n",
       "0  0.200550  0.37951  0.39641  2.0472  32.3510  0.38825  0.249760  1.33050   \n",
       "1  0.209120  0.49988  0.47225  1.9447  14.7860  0.00000  0.258340  0.99601   \n",
       "2  0.248660  0.69592  0.26713  1.5548  -1.1523  0.00000  0.309060  0.43695   \n",
       "3  0.081483  0.30734  0.45879  2.4928  51.9520  0.14988  0.092704  1.86610   \n",
       "4  0.187320  0.61323  0.22960  1.4063  -7.3128  0.18732  0.187320  0.63070   \n",
       "\n",
       "       X9      X10  ...       X56      X57      X58       X59     X60     X61  \\\n",
       "0  1.1389  0.50494  ...  0.121960  0.39718  0.87804  0.001924  8.4160  5.1372   \n",
       "1  1.6996  0.49788  ...  0.121300  0.42002  0.85300  0.000000  4.1486  3.2732   \n",
       "2  1.3090  0.30408  ...  0.241140  0.81774  0.76599  0.694840  4.9909  3.9510   \n",
       "3  1.0571  0.57353  ...  0.054015  0.14207  0.94598  0.000000  4.5746  3.6147   \n",
       "4  1.1559  0.38677  ...  0.134850  0.48431  0.86515  0.124440  6.3985  4.3158   \n",
       "\n",
       "       X62     X63      X64     Y  \n",
       "0   82.658  4.4158   7.4277  b'0'  \n",
       "1  107.350  3.4000  60.9870  b'0'  \n",
       "2  134.270  2.7185   5.2078  b'0'  \n",
       "3   86.435  4.2228   5.5497  b'0'  \n",
       "4  127.210  2.8692   7.8980  b'0'  \n",
       "\n",
       "[5 rows x 65 columns]"
      ]
     },
     "execution_count": 4,
     "metadata": {},
     "output_type": "execute_result"
    }
   ],
   "source": [
    "# 设置输入输出路径\n",
    "import os\n",
    "base_path = os.environ.get(\"BASE_PATH\",'../data/')\n",
    "data_path = os.path.join(base_path + \"lab15/bankruptcy/\")\n",
    "result_path = \"result/bankruptcy/\"\n",
    "os.makedirs(result_path, exist_ok=True)\n",
    "\n",
    "############################################################\n",
    "# 加载 5 个原始 .arff 文件到列表\n",
    "def load_arff_raw_data():\n",
    "    N=5\n",
    "    return [arff.loadarff(data_path+str(i+1) + 'year.arff') for i in range(N)]\n",
    "\n",
    "############################################################\n",
    "# 加载 5 个原始 .arff 文件到 pandas 的 DataFrame\n",
    "def load_dataframes():\n",
    "    return [pd.DataFrame(data_i_year[0]) for data_i_year in load_arff_raw_data()]\n",
    "\n",
    "############################################################\n",
    "# 为所有的5个 DataFrame 设置列名称（从 X1到X64）以及类标签为Y\n",
    "def set_new_headers(dataframes):\n",
    "    cols = ['X' + str(i+1) for i in range(len(dataframes[0].columns)-1)]\n",
    "    cols.append('Y')\n",
    "    for df in dataframes:\n",
    "        df.columns = cols\n",
    "\n",
    "############################################################\n",
    "# 调用函数获取 DataFrame \n",
    "dataframes = load_dataframes()\n",
    "\n",
    "# 设置新的列名称\n",
    "set_new_headers(dataframes)    \n",
    "\n",
    "# 打印‘year1’数据集的前5行\n",
    "dataframes[0].head()"
   ]
  },
  {
   "cell_type": "markdown",
   "metadata": {},
   "source": [
    "运行以下代码以查看 year1 DataFrame 的形状："
   ]
  },
  {
   "cell_type": "code",
   "execution_count": 5,
   "metadata": {
    "colab": {
     "base_uri": "https://localhost:8080/",
     "height": 34
    },
    "colab_type": "code",
    "id": "EGRFeDBZHpsB",
    "outputId": "f2a8c2cf-1011-44ca-a254-7cb725c44904"
   },
   "outputs": [
    {
     "data": {
      "text/plain": [
       "(7027, 65)"
      ]
     },
     "execution_count": 5,
     "metadata": {},
     "output_type": "execute_result"
    }
   ],
   "source": [
    "dataframes[0].shape"
   ]
  },
  {
   "cell_type": "markdown",
   "metadata": {},
   "source": [
    "创建 DataFrame 后，转换列的数据类型以进行进一步分析。前面 DataFrame 中显示的数字数据（类标签列除外）是 Python 对象，因此我们需要将所有 DataFrame 的数字特征转换为浮点："
   ]
  },
  {
   "cell_type": "code",
   "execution_count": 6,
   "metadata": {
    "colab": {},
    "colab_type": "code",
    "id": "D6tCTDrPH68L"
   },
   "outputs": [],
   "source": [
    "# 将所有列（类标签列除外）的数据类型转换为 float。\n",
    "def convert_columns_type_float(dfs):\n",
    "    for i in range(5):\n",
    "        index = 1\n",
    "        while(index<=63):\n",
    "            colname = dfs[i].columns[index]\n",
    "            col = getattr(dfs[i], colname)\n",
    "            dfs[i][colname] = col.astype(float)\n",
    "            index+=1\n",
    "            \n",
    "convert_columns_type_float(dataframes)"
   ]
  },
  {
   "cell_type": "markdown",
   "metadata": {},
   "source": [
    "将类标签类型转换为 int。如果查看类标签“Y”，则值显示为 b'0' 或 b'1'。它们实际上对应着破产是虚假的和真实的。建议将它们转换为二进制整数 0 和 1："
   ]
  },
  {
   "cell_type": "code",
   "execution_count": 7,
   "metadata": {
    "colab": {},
    "colab_type": "code",
    "id": "Np7SpEWfH8ny"
   },
   "outputs": [],
   "source": [
    "# 所有 DataFrame 的类标签最初都是对象类型。将它们转换为int类型\n",
    "def convert_class_label_type_int(dfs):\n",
    "    for i in range(len(dfs)):\n",
    "        col = getattr(dfs[i], 'Y')\n",
    "        dfs[i]['Y'] = col.astype(int)\n",
    "        \n",
    "convert_class_label_type_int(dataframes)"
   ]
  },
  {
   "cell_type": "markdown",
   "metadata": {},
   "source": [
    "> 我们成功地将 ARFF 数据文件转换为 DataFrame，以供进一步分析。\n",
    "\n",
    "### 2. Pandas Profiling\n",
    "在本节中，我们将重点介绍 pandas profiling，这是一种简单快速的探索性数据分析方法。它本质上是一个包，提供数据分析方法。\n",
    "\n",
    "现在，我们需要启动一个循环来对五个 DataFrame 执行 pandas 分析。使用 pandas profiling 的主要优点是，它为您提供了一个交互式 HTML 报告，其中包含 DataFrame 中列的各种统计参数。一些参数包括缺失值、偏度、峰度、最常见值、直方图和相关性。"
   ]
  },
  {
   "cell_type": "code",
   "execution_count": 8,
   "metadata": {},
   "outputs": [
    {
     "data": {
      "application/vnd.jupyter.widget-view+json": {
       "model_id": "f57ba5ded05841de8f83af43c8f2123c",
       "version_major": 2,
       "version_minor": 0
      },
      "text/plain": [
       "Summarize dataset:   0%|          | 0/5 [00:00<?, ?it/s]"
      ]
     },
     "metadata": {},
     "output_type": "display_data"
    },
    {
     "data": {
      "application/vnd.jupyter.widget-view+json": {
       "model_id": "f608f85d04a648e786ab396af983173c",
       "version_major": 2,
       "version_minor": 0
      },
      "text/plain": [
       "Generate report structure:   0%|          | 0/1 [00:00<?, ?it/s]"
      ]
     },
     "metadata": {},
     "output_type": "display_data"
    },
    {
     "data": {
      "application/vnd.jupyter.widget-view+json": {
       "model_id": "cd84056423a741b68aa8b6d38cae3c09",
       "version_major": 2,
       "version_minor": 0
      },
      "text/plain": [
       "Render HTML:   0%|          | 0/1 [00:00<?, ?it/s]"
      ]
     },
     "metadata": {},
     "output_type": "display_data"
    },
    {
     "data": {
      "application/vnd.jupyter.widget-view+json": {
       "model_id": "8fa623641b334a0a9bfdecadc5e83c84",
       "version_major": 2,
       "version_minor": 0
      },
      "text/plain": [
       "Export report to file:   0%|          | 0/1 [00:00<?, ?it/s]"
      ]
     },
     "metadata": {},
     "output_type": "display_data"
    },
    {
     "data": {
      "application/vnd.jupyter.widget-view+json": {
       "model_id": "c837067e67da4bec98bdc316caab08b7",
       "version_major": 2,
       "version_minor": 0
      },
      "text/plain": [
       "Summarize dataset:   0%|          | 0/5 [00:00<?, ?it/s]"
      ]
     },
     "metadata": {},
     "output_type": "display_data"
    },
    {
     "data": {
      "application/vnd.jupyter.widget-view+json": {
       "model_id": "4822de0423fb4d0cb5c110769746c208",
       "version_major": 2,
       "version_minor": 0
      },
      "text/plain": [
       "Generate report structure:   0%|          | 0/1 [00:00<?, ?it/s]"
      ]
     },
     "metadata": {},
     "output_type": "display_data"
    },
    {
     "data": {
      "application/vnd.jupyter.widget-view+json": {
       "model_id": "665ff41698cc4649b5a057da16e2cea5",
       "version_major": 2,
       "version_minor": 0
      },
      "text/plain": [
       "Render HTML:   0%|          | 0/1 [00:00<?, ?it/s]"
      ]
     },
     "metadata": {},
     "output_type": "display_data"
    },
    {
     "data": {
      "application/vnd.jupyter.widget-view+json": {
       "model_id": "daf431d9dc574dd3ab0e7ac6ada596f0",
       "version_major": 2,
       "version_minor": 0
      },
      "text/plain": [
       "Export report to file:   0%|          | 0/1 [00:00<?, ?it/s]"
      ]
     },
     "metadata": {},
     "output_type": "display_data"
    },
    {
     "data": {
      "application/vnd.jupyter.widget-view+json": {
       "model_id": "88301bfac4994d35b21bd472cfbb21d5",
       "version_major": 2,
       "version_minor": 0
      },
      "text/plain": [
       "Summarize dataset:   0%|          | 0/5 [00:00<?, ?it/s]"
      ]
     },
     "metadata": {},
     "output_type": "display_data"
    },
    {
     "data": {
      "application/vnd.jupyter.widget-view+json": {
       "model_id": "947dccbb63634c14b727527851651849",
       "version_major": 2,
       "version_minor": 0
      },
      "text/plain": [
       "Generate report structure:   0%|          | 0/1 [00:00<?, ?it/s]"
      ]
     },
     "metadata": {},
     "output_type": "display_data"
    },
    {
     "data": {
      "application/vnd.jupyter.widget-view+json": {
       "model_id": "b789a64a3ab24a559be9cc98f5ff285d",
       "version_major": 2,
       "version_minor": 0
      },
      "text/plain": [
       "Render HTML:   0%|          | 0/1 [00:00<?, ?it/s]"
      ]
     },
     "metadata": {},
     "output_type": "display_data"
    },
    {
     "data": {
      "application/vnd.jupyter.widget-view+json": {
       "model_id": "95ee9075e03d4adbb8746506b78e0221",
       "version_major": 2,
       "version_minor": 0
      },
      "text/plain": [
       "Export report to file:   0%|          | 0/1 [00:00<?, ?it/s]"
      ]
     },
     "metadata": {},
     "output_type": "display_data"
    },
    {
     "data": {
      "application/vnd.jupyter.widget-view+json": {
       "model_id": "66c90f6cf7ee40c1a093542812f6db7b",
       "version_major": 2,
       "version_minor": 0
      },
      "text/plain": [
       "Summarize dataset:   0%|          | 0/5 [00:00<?, ?it/s]"
      ]
     },
     "metadata": {},
     "output_type": "display_data"
    },
    {
     "data": {
      "application/vnd.jupyter.widget-view+json": {
       "model_id": "b4ee397c9aca457ab5b531c227400555",
       "version_major": 2,
       "version_minor": 0
      },
      "text/plain": [
       "Generate report structure:   0%|          | 0/1 [00:00<?, ?it/s]"
      ]
     },
     "metadata": {},
     "output_type": "display_data"
    },
    {
     "data": {
      "application/vnd.jupyter.widget-view+json": {
       "model_id": "00995b958e714340aec26c8dc60a44ac",
       "version_major": 2,
       "version_minor": 0
      },
      "text/plain": [
       "Render HTML:   0%|          | 0/1 [00:00<?, ?it/s]"
      ]
     },
     "metadata": {},
     "output_type": "display_data"
    },
    {
     "data": {
      "application/vnd.jupyter.widget-view+json": {
       "model_id": "ada292b27b7842c093bafdd9fe004650",
       "version_major": 2,
       "version_minor": 0
      },
      "text/plain": [
       "Export report to file:   0%|          | 0/1 [00:00<?, ?it/s]"
      ]
     },
     "metadata": {},
     "output_type": "display_data"
    },
    {
     "data": {
      "application/vnd.jupyter.widget-view+json": {
       "model_id": "abe9b5e7001345e5ad351b66e4ff912c",
       "version_major": 2,
       "version_minor": 0
      },
      "text/plain": [
       "Summarize dataset:   0%|          | 0/5 [00:00<?, ?it/s]"
      ]
     },
     "metadata": {},
     "output_type": "display_data"
    },
    {
     "data": {
      "application/vnd.jupyter.widget-view+json": {
       "model_id": "94106915f03b4550a6c9d61cdb409615",
       "version_major": 2,
       "version_minor": 0
      },
      "text/plain": [
       "Generate report structure:   0%|          | 0/1 [00:00<?, ?it/s]"
      ]
     },
     "metadata": {},
     "output_type": "display_data"
    },
    {
     "data": {
      "application/vnd.jupyter.widget-view+json": {
       "model_id": "40666c8306cb488fb7442a49a73d1632",
       "version_major": 2,
       "version_minor": 0
      },
      "text/plain": [
       "Render HTML:   0%|          | 0/1 [00:00<?, ?it/s]"
      ]
     },
     "metadata": {},
     "output_type": "display_data"
    },
    {
     "data": {
      "application/vnd.jupyter.widget-view+json": {
       "model_id": "251a62e53ba444b99a81d9a910bdd7af",
       "version_major": 2,
       "version_minor": 0
      },
      "text/plain": [
       "Export report to file:   0%|          | 0/1 [00:00<?, ?it/s]"
      ]
     },
     "metadata": {},
     "output_type": "display_data"
    },
    {
     "name": "stdout",
     "output_type": "stream",
     "text": [
      "CPU times: user 1h 21min 28s, sys: 6min 25s, total: 1h 27min 53s\n",
      "Wall time: 1h 23min 2s\n"
     ]
    }
   ],
   "source": [
    "%%time\n",
    "import pandas_profiling\n",
    "\n",
    "for i in range(0,5):\n",
    "    profile = dataframes[i].profile_report(title='Pandas Profiling Report',\n",
    "                                           plot={'histogram': {'bins': 8}})\n",
    "    profile.to_file(output_file=result_path+str(i)+\"output.html\")"
   ]
  },
  {
   "cell_type": "markdown",
   "metadata": {},
   "source": [
    "> pandas profiling 的输出是 `HTML` 格式的。五个 DataFrame 各有一个报告。\n",
    "\n",
    "我们将主要关注 DataFrame 的以下方面 ——\n",
    "\n",
    "- **`Number of variables (变量数量)`**：指 DataFrame 中存在的特征数量。\n",
    "- **`Number of observations (观察数)`**：指 DataFrame 中存在的记录数。\n",
    "- **`Missing values (缺失值)`**：DataFrame 列中缺失的记录数。\n",
    "- **`Duplicate rows (重复行)`**：DataFrame 列中不唯一的记录数。\n",
    "- **`Types of variables (变量类型)`**：DataFrame 中存在的数字、分类、布尔、日期值和 URL 的数量。\n",
    "- **`Skewness (偏度)`**：这是实值随机变量在其平均值周围的概率分布中的不对称或扭曲程度：\n",
    "\n",
    "<img src=\"./img/4-1.jfif\" width=40%>\n",
    "\n",
    "不同偏态分布的平均值、中值和模式之间的关系如下图所示 ——\n",
    "\n",
    "<img src=\"./img/4-2.jfif\" width=80%>\n",
    "\n",
    "偏度值可以为：**正**、**负** 或 **未知** 的。\n",
    "\n",
    "- **相关性**：相关性讨论两个变量之间的关系以及关系的强度。如果 DataFrame 中的两个特征高度相关，则可以拒绝其中一个特征。Pandas profiling 为您提供了一系列相关且可以拒绝的功能。\n",
    "- **变量的描述性统计**：变量的描述性统计表示该特定特征的各种参数，如均值、中位数、方差、变异系数、峰度和总和。"
   ]
  },
  {
   "cell_type": "markdown",
   "metadata": {},
   "source": [
    "pandas profiling 的输出是一个 HTML 文件。我们将在下面的屏幕截图中讨论发现的各个方面。\n",
    "\n",
    "第一个 DataFrame。（**可以在输出路径中找到相应的 HTML 文件，以查看详细信息**）\n",
    "\n",
    "<img src=\"img/4-1.png\" width=80%>\n",
    "\n",
    "$\\uparrow$ 根据上图，我们可以很容易地得出数据集有 `65` 个特征和 `7027` 个观测值。缺失值的总数为 `5835`。\n",
    "\n",
    "现在，让我们看看这些特征，看看特征是否倾斜。除了偏度，我们还将研究相关性。如果两个变量是相关的，我们可以拒绝一个变量而使用另一个变量。下面是 pandas profiling 概况报告的延续，这里我们可以看到特征之间的相关性，以及是否是偏度的以及零值：\n",
    "\n",
    "<img src=\"img/4-2.png\" width=80%>\n",
    "\n",
    "从前面的报告中，我们可以看到 **32** 个特征具有高度相关性。在监督学习中，由于以下原因，**具有高相关性的特征被移除** ——\n",
    "\n",
    "- 由于信息重复，相关特征会损害预测模型。\n",
    "- 根据 **奥卡姆剃刀** 法则，当处于进退两难的境地时，总是选择一个简单的模型，也就是说，它具有较少的特性。\n",
    "- 如果我们不去除相关的特征，维度诅咒就会出现，这会使机器学习模型变慢。\n",
    "\n",
    "在模型构建阶段，我们可以拒绝的特征列表如下 ——\n",
    "\n",
    "`X14`, `X17`, `X18`, `X20`, `X22`, `X23`, `X24`, `X26`, `X30`, `X31`, `X36`, `X38`, `X39`, `X40`, `X42`, `X43`, `X44`, `X46`, `X48`, `X51`, `X52`, `X54`, `X56`, `X58`, `X61`, `X62`, `X63`, `X64`, `X7`, `X8`, `X9`\n",
    "\n",
    "**可以使用类似方法对其他几个 HTML 文件进行分析**"
   ]
  },
  {
   "cell_type": "markdown",
   "metadata": {},
   "source": [
    "### 3. 缺失值分析\n",
    "\n",
    "数据分析的主要步骤之一是 **缺失值分析**。我们需要执行缺失值分析的主要原因是要知道一列中缺失了多少数据，以及我们将如何处理它。\n",
    "\n",
    "通常，可以通过两种方式处理缺失的值 _\n",
    "\n",
    "- 第一种方法是删除缺失值的行，这将导致信息丢失。\n",
    "- 第二种方法是插补缺失值，即我们根据所采用的插补方法填充缺失值。例如，在均值插补中，我们使用特定列的平均值来填充缺失值。\n",
    "\n",
    "为了找出 DataFrame 中存在多少缺失值，我们将向您介绍一个名为 `missingno` 的包，它将帮助您可视化 DataFrame 中缺失值的数量。"
   ]
  },
  {
   "cell_type": "markdown",
   "metadata": {},
   "source": [
    "导入 missingno 库 ——"
   ]
  },
  {
   "cell_type": "code",
   "execution_count": 9,
   "metadata": {
    "colab": {},
    "colab_type": "code",
    "id": "GWHfiGc9IU-4"
   },
   "outputs": [],
   "source": [
    "import missingno as msno"
   ]
  },
  {
   "cell_type": "markdown",
   "metadata": {},
   "source": [
    "在第一个 DataFrame 中查找缺失值，并在绘图中可视化缺失值："
   ]
  },
  {
   "cell_type": "code",
   "execution_count": 10,
   "metadata": {
    "colab": {
     "base_uri": "https://localhost:8080/",
     "height": 678
    },
    "colab_type": "code",
    "id": "wusa-e3DJHFB",
    "outputId": "38b76b40-05e8-408a-f6e6-5b12fc48df82"
   },
   "outputs": [
    {
     "ename": "ValueError",
     "evalue": "The number of FixedLocator locations (7), usually from a call to set_ticks, does not match the number of ticklabels (65).",
     "output_type": "error",
     "traceback": [
      "\u001b[0;31m\u001b[0m",
      "\u001b[0;31mValueError\u001b[0mTraceback (most recent call last)",
      "\u001b[0;32m<ipython-input-10-cb37f08aa8a5>\u001b[0m in \u001b[0;36m<module>\u001b[0;34m\u001b[0m\n\u001b[1;32m      1\u001b[0m \u001b[0;31m# 第一个 Dataframe 中的缺失值\u001b[0m\u001b[0;34m\u001b[0m\u001b[0;34m\u001b[0m\u001b[0;34m\u001b[0m\u001b[0m\n\u001b[0;32m----> 2\u001b[0;31m \u001b[0mmsno\u001b[0m\u001b[0;34m.\u001b[0m\u001b[0mbar\u001b[0m\u001b[0;34m(\u001b[0m\u001b[0mdataframes\u001b[0m\u001b[0;34m[\u001b[0m\u001b[0;36m0\u001b[0m\u001b[0;34m]\u001b[0m\u001b[0;34m,\u001b[0m\u001b[0mcolor\u001b[0m\u001b[0;34m=\u001b[0m\u001b[0;34m'dodgerblue'\u001b[0m\u001b[0;34m,\u001b[0m\u001b[0mlabels\u001b[0m\u001b[0;34m=\u001b[0m\u001b[0;32mTrue\u001b[0m\u001b[0;34m)\u001b[0m\u001b[0;34m\u001b[0m\u001b[0;34m\u001b[0m\u001b[0m\n\u001b[0m",
      "\u001b[0;32m/usr/local/lib/python3.6/dist-packages/missingno/missingno.py\u001b[0m in \u001b[0;36mbar\u001b[0;34m(df, figsize, fontsize, labels, label_rotation, log, color, filter, n, p, sort, ax, orientation)\u001b[0m\n\u001b[1;32m    277\u001b[0m         \u001b[0max3\u001b[0m\u001b[0;34m.\u001b[0m\u001b[0mset_xlim\u001b[0m\u001b[0;34m(\u001b[0m\u001b[0max1\u001b[0m\u001b[0;34m.\u001b[0m\u001b[0mget_xlim\u001b[0m\u001b[0;34m(\u001b[0m\u001b[0;34m)\u001b[0m\u001b[0;34m)\u001b[0m\u001b[0;34m\u001b[0m\u001b[0;34m\u001b[0m\u001b[0m\n\u001b[1;32m    278\u001b[0m         ax3.set_xticklabels(\n\u001b[0;32m--> 279\u001b[0;31m             \u001b[0mnullity_counts\u001b[0m\u001b[0;34m.\u001b[0m\u001b[0mvalues\u001b[0m\u001b[0;34m,\u001b[0m \u001b[0mfontsize\u001b[0m\u001b[0;34m=\u001b[0m\u001b[0mfontsize\u001b[0m\u001b[0;34m,\u001b[0m \u001b[0mrotation\u001b[0m\u001b[0;34m=\u001b[0m\u001b[0mlabel_rotation\u001b[0m\u001b[0;34m,\u001b[0m \u001b[0mha\u001b[0m\u001b[0;34m=\u001b[0m\u001b[0;34m'left'\u001b[0m\u001b[0;34m\u001b[0m\u001b[0;34m\u001b[0m\u001b[0m\n\u001b[0m\u001b[1;32m    280\u001b[0m         )\n\u001b[1;32m    281\u001b[0m     \u001b[0;32melse\u001b[0m\u001b[0;34m:\u001b[0m\u001b[0;34m\u001b[0m\u001b[0;34m\u001b[0m\u001b[0m\n",
      "\u001b[0;32m/usr/local/lib/python3.6/dist-packages/matplotlib/axes/_base.py\u001b[0m in \u001b[0;36mwrapper\u001b[0;34m(self, *args, **kwargs)\u001b[0m\n\u001b[1;32m     61\u001b[0m \u001b[0;34m\u001b[0m\u001b[0m\n\u001b[1;32m     62\u001b[0m         \u001b[0;32mdef\u001b[0m \u001b[0mwrapper\u001b[0m\u001b[0;34m(\u001b[0m\u001b[0mself\u001b[0m\u001b[0;34m,\u001b[0m \u001b[0;34m*\u001b[0m\u001b[0margs\u001b[0m\u001b[0;34m,\u001b[0m \u001b[0;34m**\u001b[0m\u001b[0mkwargs\u001b[0m\u001b[0;34m)\u001b[0m\u001b[0;34m:\u001b[0m\u001b[0;34m\u001b[0m\u001b[0;34m\u001b[0m\u001b[0m\n\u001b[0;32m---> 63\u001b[0;31m             \u001b[0;32mreturn\u001b[0m \u001b[0mget_method\u001b[0m\u001b[0;34m(\u001b[0m\u001b[0mself\u001b[0m\u001b[0;34m)\u001b[0m\u001b[0;34m(\u001b[0m\u001b[0;34m*\u001b[0m\u001b[0margs\u001b[0m\u001b[0;34m,\u001b[0m \u001b[0;34m**\u001b[0m\u001b[0mkwargs\u001b[0m\u001b[0;34m)\u001b[0m\u001b[0;34m\u001b[0m\u001b[0;34m\u001b[0m\u001b[0m\n\u001b[0m\u001b[1;32m     64\u001b[0m \u001b[0;34m\u001b[0m\u001b[0m\n\u001b[1;32m     65\u001b[0m         \u001b[0mwrapper\u001b[0m\u001b[0;34m.\u001b[0m\u001b[0m__module__\u001b[0m \u001b[0;34m=\u001b[0m \u001b[0mowner\u001b[0m\u001b[0;34m.\u001b[0m\u001b[0m__module__\u001b[0m\u001b[0;34m\u001b[0m\u001b[0;34m\u001b[0m\u001b[0m\n",
      "\u001b[0;32m/usr/local/lib/python3.6/dist-packages/matplotlib/cbook/deprecation.py\u001b[0m in \u001b[0;36mwrapper\u001b[0;34m(*args, **kwargs)\u001b[0m\n\u001b[1;32m    449\u001b[0m                 \u001b[0;34m\"parameter will become keyword-only %(removal)s.\"\u001b[0m\u001b[0;34m,\u001b[0m\u001b[0;34m\u001b[0m\u001b[0;34m\u001b[0m\u001b[0m\n\u001b[1;32m    450\u001b[0m                 name=name, obj_type=f\"parameter of {func.__name__}()\")\n\u001b[0;32m--> 451\u001b[0;31m         \u001b[0;32mreturn\u001b[0m \u001b[0mfunc\u001b[0m\u001b[0;34m(\u001b[0m\u001b[0;34m*\u001b[0m\u001b[0margs\u001b[0m\u001b[0;34m,\u001b[0m \u001b[0;34m**\u001b[0m\u001b[0mkwargs\u001b[0m\u001b[0;34m)\u001b[0m\u001b[0;34m\u001b[0m\u001b[0;34m\u001b[0m\u001b[0m\n\u001b[0m\u001b[1;32m    452\u001b[0m \u001b[0;34m\u001b[0m\u001b[0m\n\u001b[1;32m    453\u001b[0m     \u001b[0;32mreturn\u001b[0m \u001b[0mwrapper\u001b[0m\u001b[0;34m\u001b[0m\u001b[0;34m\u001b[0m\u001b[0m\n",
      "\u001b[0;32m/usr/local/lib/python3.6/dist-packages/matplotlib/axis.py\u001b[0m in \u001b[0;36m_set_ticklabels\u001b[0;34m(self, labels, fontdict, minor, **kwargs)\u001b[0m\n\u001b[1;32m   1794\u001b[0m         \u001b[0;32mif\u001b[0m \u001b[0mfontdict\u001b[0m \u001b[0;32mis\u001b[0m \u001b[0;32mnot\u001b[0m \u001b[0;32mNone\u001b[0m\u001b[0;34m:\u001b[0m\u001b[0;34m\u001b[0m\u001b[0;34m\u001b[0m\u001b[0m\n\u001b[1;32m   1795\u001b[0m             \u001b[0mkwargs\u001b[0m\u001b[0;34m.\u001b[0m\u001b[0mupdate\u001b[0m\u001b[0;34m(\u001b[0m\u001b[0mfontdict\u001b[0m\u001b[0;34m)\u001b[0m\u001b[0;34m\u001b[0m\u001b[0;34m\u001b[0m\u001b[0m\n\u001b[0;32m-> 1796\u001b[0;31m         \u001b[0;32mreturn\u001b[0m \u001b[0mself\u001b[0m\u001b[0;34m.\u001b[0m\u001b[0mset_ticklabels\u001b[0m\u001b[0;34m(\u001b[0m\u001b[0mlabels\u001b[0m\u001b[0;34m,\u001b[0m \u001b[0mminor\u001b[0m\u001b[0;34m=\u001b[0m\u001b[0mminor\u001b[0m\u001b[0;34m,\u001b[0m \u001b[0;34m**\u001b[0m\u001b[0mkwargs\u001b[0m\u001b[0;34m)\u001b[0m\u001b[0;34m\u001b[0m\u001b[0;34m\u001b[0m\u001b[0m\n\u001b[0m\u001b[1;32m   1797\u001b[0m \u001b[0;34m\u001b[0m\u001b[0m\n\u001b[1;32m   1798\u001b[0m     \u001b[0;34m@\u001b[0m\u001b[0mcbook\u001b[0m\u001b[0;34m.\u001b[0m\u001b[0m_make_keyword_only\u001b[0m\u001b[0;34m(\u001b[0m\u001b[0;34m\"3.2\"\u001b[0m\u001b[0;34m,\u001b[0m \u001b[0;34m\"minor\"\u001b[0m\u001b[0;34m)\u001b[0m\u001b[0;34m\u001b[0m\u001b[0;34m\u001b[0m\u001b[0m\n",
      "\u001b[0;32m/usr/local/lib/python3.6/dist-packages/matplotlib/axis.py\u001b[0m in \u001b[0;36mset_ticklabels\u001b[0;34m(self, ticklabels, minor, **kwargs)\u001b[0m\n\u001b[1;32m   1716\u001b[0m             \u001b[0;32mif\u001b[0m \u001b[0mlen\u001b[0m\u001b[0;34m(\u001b[0m\u001b[0mlocator\u001b[0m\u001b[0;34m.\u001b[0m\u001b[0mlocs\u001b[0m\u001b[0;34m)\u001b[0m \u001b[0;34m!=\u001b[0m \u001b[0mlen\u001b[0m\u001b[0;34m(\u001b[0m\u001b[0mticklabels\u001b[0m\u001b[0;34m)\u001b[0m \u001b[0;32mand\u001b[0m \u001b[0mlen\u001b[0m\u001b[0;34m(\u001b[0m\u001b[0mticklabels\u001b[0m\u001b[0;34m)\u001b[0m \u001b[0;34m!=\u001b[0m \u001b[0;36m0\u001b[0m\u001b[0;34m:\u001b[0m\u001b[0;34m\u001b[0m\u001b[0;34m\u001b[0m\u001b[0m\n\u001b[1;32m   1717\u001b[0m                 raise ValueError(\n\u001b[0;32m-> 1718\u001b[0;31m                     \u001b[0;34m\"The number of FixedLocator locations\"\u001b[0m\u001b[0;34m\u001b[0m\u001b[0;34m\u001b[0m\u001b[0m\n\u001b[0m\u001b[1;32m   1719\u001b[0m                     \u001b[0;34mf\" ({len(locator.locs)}), usually from a call to\"\u001b[0m\u001b[0;34m\u001b[0m\u001b[0;34m\u001b[0m\u001b[0m\n\u001b[1;32m   1720\u001b[0m                     \u001b[0;34m\" set_ticks, does not match\"\u001b[0m\u001b[0;34m\u001b[0m\u001b[0;34m\u001b[0m\u001b[0m\n",
      "\u001b[0;31mValueError\u001b[0m: The number of FixedLocator locations (7), usually from a call to set_ticks, does not match the number of ticklabels (65)."
     ]
    }
   ],
   "source": [
    "# 第一个 Dataframe 中的缺失值\n",
    "msno.bar(dataframes[0],color='dodgerblue',labels=True)"
   ]
  },
  {
   "cell_type": "markdown",
   "metadata": {},
   "source": [
    "> 在上面的图中，$x$ 轴表示 DataFrame 的特征，而 $y$ 轴表示当前值数量的百分比；例如，对于特征 `X37`，$y$ 轴的值为 `.6`，表示 `60%` 的数据存在，其余（`40%`）缺失。对于第一个 DataFrame，`X37`、`X21`、`X27` 和 `X60` 列中有大量缺失值，而其他列的百分比较低。\n",
    "\n",
    "对第二个 DataFrame 执行相同的分析，并将其显示在条形图中 ——"
   ]
  },
  {
   "cell_type": "code",
   "execution_count": 11,
   "metadata": {
    "colab": {
     "base_uri": "https://localhost:8080/",
     "height": 685
    },
    "colab_type": "code",
    "id": "WkP5XkduJRgI",
    "outputId": "20fd4e49-7ecf-4cc2-8549-948d62e04f60"
   },
   "outputs": [
    {
     "ename": "ValueError",
     "evalue": "The number of FixedLocator locations (7), usually from a call to set_ticks, does not match the number of ticklabels (65).",
     "output_type": "error",
     "traceback": [
      "\u001b[0;31m\u001b[0m",
      "\u001b[0;31mValueError\u001b[0mTraceback (most recent call last)",
      "\u001b[0;32m<ipython-input-11-e162ead20296>\u001b[0m in \u001b[0;36m<module>\u001b[0;34m\u001b[0m\n\u001b[1;32m      1\u001b[0m \u001b[0;31m# 第二个 DataFrame 中的缺失值\u001b[0m\u001b[0;34m\u001b[0m\u001b[0;34m\u001b[0m\u001b[0;34m\u001b[0m\u001b[0m\n\u001b[0;32m----> 2\u001b[0;31m \u001b[0mmsno\u001b[0m\u001b[0;34m.\u001b[0m\u001b[0mbar\u001b[0m\u001b[0;34m(\u001b[0m\u001b[0mdataframes\u001b[0m\u001b[0;34m[\u001b[0m\u001b[0;36m1\u001b[0m\u001b[0;34m]\u001b[0m\u001b[0;34m,\u001b[0m\u001b[0mcolor\u001b[0m\u001b[0;34m=\u001b[0m\u001b[0;34m'dodgerblue'\u001b[0m\u001b[0;34m,\u001b[0m\u001b[0mlabels\u001b[0m\u001b[0;34m=\u001b[0m\u001b[0;32mTrue\u001b[0m\u001b[0;34m)\u001b[0m\u001b[0;34m\u001b[0m\u001b[0;34m\u001b[0m\u001b[0m\n\u001b[0m",
      "\u001b[0;32m/usr/local/lib/python3.6/dist-packages/missingno/missingno.py\u001b[0m in \u001b[0;36mbar\u001b[0;34m(df, figsize, fontsize, labels, label_rotation, log, color, filter, n, p, sort, ax, orientation)\u001b[0m\n\u001b[1;32m    277\u001b[0m         \u001b[0max3\u001b[0m\u001b[0;34m.\u001b[0m\u001b[0mset_xlim\u001b[0m\u001b[0;34m(\u001b[0m\u001b[0max1\u001b[0m\u001b[0;34m.\u001b[0m\u001b[0mget_xlim\u001b[0m\u001b[0;34m(\u001b[0m\u001b[0;34m)\u001b[0m\u001b[0;34m)\u001b[0m\u001b[0;34m\u001b[0m\u001b[0;34m\u001b[0m\u001b[0m\n\u001b[1;32m    278\u001b[0m         ax3.set_xticklabels(\n\u001b[0;32m--> 279\u001b[0;31m             \u001b[0mnullity_counts\u001b[0m\u001b[0;34m.\u001b[0m\u001b[0mvalues\u001b[0m\u001b[0;34m,\u001b[0m \u001b[0mfontsize\u001b[0m\u001b[0;34m=\u001b[0m\u001b[0mfontsize\u001b[0m\u001b[0;34m,\u001b[0m \u001b[0mrotation\u001b[0m\u001b[0;34m=\u001b[0m\u001b[0mlabel_rotation\u001b[0m\u001b[0;34m,\u001b[0m \u001b[0mha\u001b[0m\u001b[0;34m=\u001b[0m\u001b[0;34m'left'\u001b[0m\u001b[0;34m\u001b[0m\u001b[0;34m\u001b[0m\u001b[0m\n\u001b[0m\u001b[1;32m    280\u001b[0m         )\n\u001b[1;32m    281\u001b[0m     \u001b[0;32melse\u001b[0m\u001b[0;34m:\u001b[0m\u001b[0;34m\u001b[0m\u001b[0;34m\u001b[0m\u001b[0m\n",
      "\u001b[0;32m/usr/local/lib/python3.6/dist-packages/matplotlib/axes/_base.py\u001b[0m in \u001b[0;36mwrapper\u001b[0;34m(self, *args, **kwargs)\u001b[0m\n\u001b[1;32m     61\u001b[0m \u001b[0;34m\u001b[0m\u001b[0m\n\u001b[1;32m     62\u001b[0m         \u001b[0;32mdef\u001b[0m \u001b[0mwrapper\u001b[0m\u001b[0;34m(\u001b[0m\u001b[0mself\u001b[0m\u001b[0;34m,\u001b[0m \u001b[0;34m*\u001b[0m\u001b[0margs\u001b[0m\u001b[0;34m,\u001b[0m \u001b[0;34m**\u001b[0m\u001b[0mkwargs\u001b[0m\u001b[0;34m)\u001b[0m\u001b[0;34m:\u001b[0m\u001b[0;34m\u001b[0m\u001b[0;34m\u001b[0m\u001b[0m\n\u001b[0;32m---> 63\u001b[0;31m             \u001b[0;32mreturn\u001b[0m \u001b[0mget_method\u001b[0m\u001b[0;34m(\u001b[0m\u001b[0mself\u001b[0m\u001b[0;34m)\u001b[0m\u001b[0;34m(\u001b[0m\u001b[0;34m*\u001b[0m\u001b[0margs\u001b[0m\u001b[0;34m,\u001b[0m \u001b[0;34m**\u001b[0m\u001b[0mkwargs\u001b[0m\u001b[0;34m)\u001b[0m\u001b[0;34m\u001b[0m\u001b[0;34m\u001b[0m\u001b[0m\n\u001b[0m\u001b[1;32m     64\u001b[0m \u001b[0;34m\u001b[0m\u001b[0m\n\u001b[1;32m     65\u001b[0m         \u001b[0mwrapper\u001b[0m\u001b[0;34m.\u001b[0m\u001b[0m__module__\u001b[0m \u001b[0;34m=\u001b[0m \u001b[0mowner\u001b[0m\u001b[0;34m.\u001b[0m\u001b[0m__module__\u001b[0m\u001b[0;34m\u001b[0m\u001b[0;34m\u001b[0m\u001b[0m\n",
      "\u001b[0;32m/usr/local/lib/python3.6/dist-packages/matplotlib/cbook/deprecation.py\u001b[0m in \u001b[0;36mwrapper\u001b[0;34m(*args, **kwargs)\u001b[0m\n\u001b[1;32m    449\u001b[0m                 \u001b[0;34m\"parameter will become keyword-only %(removal)s.\"\u001b[0m\u001b[0;34m,\u001b[0m\u001b[0;34m\u001b[0m\u001b[0;34m\u001b[0m\u001b[0m\n\u001b[1;32m    450\u001b[0m                 name=name, obj_type=f\"parameter of {func.__name__}()\")\n\u001b[0;32m--> 451\u001b[0;31m         \u001b[0;32mreturn\u001b[0m \u001b[0mfunc\u001b[0m\u001b[0;34m(\u001b[0m\u001b[0;34m*\u001b[0m\u001b[0margs\u001b[0m\u001b[0;34m,\u001b[0m \u001b[0;34m**\u001b[0m\u001b[0mkwargs\u001b[0m\u001b[0;34m)\u001b[0m\u001b[0;34m\u001b[0m\u001b[0;34m\u001b[0m\u001b[0m\n\u001b[0m\u001b[1;32m    452\u001b[0m \u001b[0;34m\u001b[0m\u001b[0m\n\u001b[1;32m    453\u001b[0m     \u001b[0;32mreturn\u001b[0m \u001b[0mwrapper\u001b[0m\u001b[0;34m\u001b[0m\u001b[0;34m\u001b[0m\u001b[0m\n",
      "\u001b[0;32m/usr/local/lib/python3.6/dist-packages/matplotlib/axis.py\u001b[0m in \u001b[0;36m_set_ticklabels\u001b[0;34m(self, labels, fontdict, minor, **kwargs)\u001b[0m\n\u001b[1;32m   1794\u001b[0m         \u001b[0;32mif\u001b[0m \u001b[0mfontdict\u001b[0m \u001b[0;32mis\u001b[0m \u001b[0;32mnot\u001b[0m \u001b[0;32mNone\u001b[0m\u001b[0;34m:\u001b[0m\u001b[0;34m\u001b[0m\u001b[0;34m\u001b[0m\u001b[0m\n\u001b[1;32m   1795\u001b[0m             \u001b[0mkwargs\u001b[0m\u001b[0;34m.\u001b[0m\u001b[0mupdate\u001b[0m\u001b[0;34m(\u001b[0m\u001b[0mfontdict\u001b[0m\u001b[0;34m)\u001b[0m\u001b[0;34m\u001b[0m\u001b[0;34m\u001b[0m\u001b[0m\n\u001b[0;32m-> 1796\u001b[0;31m         \u001b[0;32mreturn\u001b[0m \u001b[0mself\u001b[0m\u001b[0;34m.\u001b[0m\u001b[0mset_ticklabels\u001b[0m\u001b[0;34m(\u001b[0m\u001b[0mlabels\u001b[0m\u001b[0;34m,\u001b[0m \u001b[0mminor\u001b[0m\u001b[0;34m=\u001b[0m\u001b[0mminor\u001b[0m\u001b[0;34m,\u001b[0m \u001b[0;34m**\u001b[0m\u001b[0mkwargs\u001b[0m\u001b[0;34m)\u001b[0m\u001b[0;34m\u001b[0m\u001b[0;34m\u001b[0m\u001b[0m\n\u001b[0m\u001b[1;32m   1797\u001b[0m \u001b[0;34m\u001b[0m\u001b[0m\n\u001b[1;32m   1798\u001b[0m     \u001b[0;34m@\u001b[0m\u001b[0mcbook\u001b[0m\u001b[0;34m.\u001b[0m\u001b[0m_make_keyword_only\u001b[0m\u001b[0;34m(\u001b[0m\u001b[0;34m\"3.2\"\u001b[0m\u001b[0;34m,\u001b[0m \u001b[0;34m\"minor\"\u001b[0m\u001b[0;34m)\u001b[0m\u001b[0;34m\u001b[0m\u001b[0;34m\u001b[0m\u001b[0m\n",
      "\u001b[0;32m/usr/local/lib/python3.6/dist-packages/matplotlib/axis.py\u001b[0m in \u001b[0;36mset_ticklabels\u001b[0;34m(self, ticklabels, minor, **kwargs)\u001b[0m\n\u001b[1;32m   1716\u001b[0m             \u001b[0;32mif\u001b[0m \u001b[0mlen\u001b[0m\u001b[0;34m(\u001b[0m\u001b[0mlocator\u001b[0m\u001b[0;34m.\u001b[0m\u001b[0mlocs\u001b[0m\u001b[0;34m)\u001b[0m \u001b[0;34m!=\u001b[0m \u001b[0mlen\u001b[0m\u001b[0;34m(\u001b[0m\u001b[0mticklabels\u001b[0m\u001b[0;34m)\u001b[0m \u001b[0;32mand\u001b[0m \u001b[0mlen\u001b[0m\u001b[0;34m(\u001b[0m\u001b[0mticklabels\u001b[0m\u001b[0;34m)\u001b[0m \u001b[0;34m!=\u001b[0m \u001b[0;36m0\u001b[0m\u001b[0;34m:\u001b[0m\u001b[0;34m\u001b[0m\u001b[0;34m\u001b[0m\u001b[0m\n\u001b[1;32m   1717\u001b[0m                 raise ValueError(\n\u001b[0;32m-> 1718\u001b[0;31m                     \u001b[0;34m\"The number of FixedLocator locations\"\u001b[0m\u001b[0;34m\u001b[0m\u001b[0;34m\u001b[0m\u001b[0m\n\u001b[0m\u001b[1;32m   1719\u001b[0m                     \u001b[0;34mf\" ({len(locator.locs)}), usually from a call to\"\u001b[0m\u001b[0;34m\u001b[0m\u001b[0;34m\u001b[0m\u001b[0m\n\u001b[1;32m   1720\u001b[0m                     \u001b[0;34m\" set_ticks, does not match\"\u001b[0m\u001b[0;34m\u001b[0m\u001b[0;34m\u001b[0m\u001b[0m\n",
      "\u001b[0;31mValueError\u001b[0m: The number of FixedLocator locations (7), usually from a call to set_ticks, does not match the number of ticklabels (65)."
     ]
    }
   ],
   "source": [
    "# 第二个 DataFrame 中的缺失值\n",
    "msno.bar(dataframes[1],color='dodgerblue',labels=True)"
   ]
  },
  {
   "cell_type": "markdown",
   "metadata": {},
   "source": [
    "> 在上面的图中，$x$ 轴表示 DataFrame 的特征，而 $y$ 轴表示存在值的百分比。对于第二个 DataFrame，`X37`、`X21`、`X27` 和 `X60` 列中有大量缺失值，而其他列中缺失值的数量较少。\n",
    "\n",
    "对第三个 DataFrame 也执行相同的分析，并在条形图中可视化 ——"
   ]
  },
  {
   "cell_type": "code",
   "execution_count": 12,
   "metadata": {
    "colab": {
     "base_uri": "https://localhost:8080/",
     "height": 685
    },
    "colab_type": "code",
    "id": "AxzROAB4JqQR",
    "outputId": "6fa0c3a7-fdd5-48b9-9707-a7f751304c91"
   },
   "outputs": [
    {
     "ename": "ValueError",
     "evalue": "The number of FixedLocator locations (7), usually from a call to set_ticks, does not match the number of ticklabels (65).",
     "output_type": "error",
     "traceback": [
      "\u001b[0;31m\u001b[0m",
      "\u001b[0;31mValueError\u001b[0mTraceback (most recent call last)",
      "\u001b[0;32m<ipython-input-12-a0061b2a47c3>\u001b[0m in \u001b[0;36m<module>\u001b[0;34m\u001b[0m\n\u001b[1;32m      1\u001b[0m \u001b[0;31m# 第三个 DataFrame 中的缺失值\u001b[0m\u001b[0;34m\u001b[0m\u001b[0;34m\u001b[0m\u001b[0;34m\u001b[0m\u001b[0m\n\u001b[0;32m----> 2\u001b[0;31m \u001b[0mmsno\u001b[0m\u001b[0;34m.\u001b[0m\u001b[0mbar\u001b[0m\u001b[0;34m(\u001b[0m\u001b[0mdataframes\u001b[0m\u001b[0;34m[\u001b[0m\u001b[0;36m2\u001b[0m\u001b[0;34m]\u001b[0m\u001b[0;34m,\u001b[0m\u001b[0mlabels\u001b[0m\u001b[0;34m=\u001b[0m\u001b[0;32mTrue\u001b[0m\u001b[0;34m)\u001b[0m\u001b[0;34m\u001b[0m\u001b[0;34m\u001b[0m\u001b[0m\n\u001b[0m",
      "\u001b[0;32m/usr/local/lib/python3.6/dist-packages/missingno/missingno.py\u001b[0m in \u001b[0;36mbar\u001b[0;34m(df, figsize, fontsize, labels, label_rotation, log, color, filter, n, p, sort, ax, orientation)\u001b[0m\n\u001b[1;32m    277\u001b[0m         \u001b[0max3\u001b[0m\u001b[0;34m.\u001b[0m\u001b[0mset_xlim\u001b[0m\u001b[0;34m(\u001b[0m\u001b[0max1\u001b[0m\u001b[0;34m.\u001b[0m\u001b[0mget_xlim\u001b[0m\u001b[0;34m(\u001b[0m\u001b[0;34m)\u001b[0m\u001b[0;34m)\u001b[0m\u001b[0;34m\u001b[0m\u001b[0;34m\u001b[0m\u001b[0m\n\u001b[1;32m    278\u001b[0m         ax3.set_xticklabels(\n\u001b[0;32m--> 279\u001b[0;31m             \u001b[0mnullity_counts\u001b[0m\u001b[0;34m.\u001b[0m\u001b[0mvalues\u001b[0m\u001b[0;34m,\u001b[0m \u001b[0mfontsize\u001b[0m\u001b[0;34m=\u001b[0m\u001b[0mfontsize\u001b[0m\u001b[0;34m,\u001b[0m \u001b[0mrotation\u001b[0m\u001b[0;34m=\u001b[0m\u001b[0mlabel_rotation\u001b[0m\u001b[0;34m,\u001b[0m \u001b[0mha\u001b[0m\u001b[0;34m=\u001b[0m\u001b[0;34m'left'\u001b[0m\u001b[0;34m\u001b[0m\u001b[0;34m\u001b[0m\u001b[0m\n\u001b[0m\u001b[1;32m    280\u001b[0m         )\n\u001b[1;32m    281\u001b[0m     \u001b[0;32melse\u001b[0m\u001b[0;34m:\u001b[0m\u001b[0;34m\u001b[0m\u001b[0;34m\u001b[0m\u001b[0m\n",
      "\u001b[0;32m/usr/local/lib/python3.6/dist-packages/matplotlib/axes/_base.py\u001b[0m in \u001b[0;36mwrapper\u001b[0;34m(self, *args, **kwargs)\u001b[0m\n\u001b[1;32m     61\u001b[0m \u001b[0;34m\u001b[0m\u001b[0m\n\u001b[1;32m     62\u001b[0m         \u001b[0;32mdef\u001b[0m \u001b[0mwrapper\u001b[0m\u001b[0;34m(\u001b[0m\u001b[0mself\u001b[0m\u001b[0;34m,\u001b[0m \u001b[0;34m*\u001b[0m\u001b[0margs\u001b[0m\u001b[0;34m,\u001b[0m \u001b[0;34m**\u001b[0m\u001b[0mkwargs\u001b[0m\u001b[0;34m)\u001b[0m\u001b[0;34m:\u001b[0m\u001b[0;34m\u001b[0m\u001b[0;34m\u001b[0m\u001b[0m\n\u001b[0;32m---> 63\u001b[0;31m             \u001b[0;32mreturn\u001b[0m \u001b[0mget_method\u001b[0m\u001b[0;34m(\u001b[0m\u001b[0mself\u001b[0m\u001b[0;34m)\u001b[0m\u001b[0;34m(\u001b[0m\u001b[0;34m*\u001b[0m\u001b[0margs\u001b[0m\u001b[0;34m,\u001b[0m \u001b[0;34m**\u001b[0m\u001b[0mkwargs\u001b[0m\u001b[0;34m)\u001b[0m\u001b[0;34m\u001b[0m\u001b[0;34m\u001b[0m\u001b[0m\n\u001b[0m\u001b[1;32m     64\u001b[0m \u001b[0;34m\u001b[0m\u001b[0m\n\u001b[1;32m     65\u001b[0m         \u001b[0mwrapper\u001b[0m\u001b[0;34m.\u001b[0m\u001b[0m__module__\u001b[0m \u001b[0;34m=\u001b[0m \u001b[0mowner\u001b[0m\u001b[0;34m.\u001b[0m\u001b[0m__module__\u001b[0m\u001b[0;34m\u001b[0m\u001b[0;34m\u001b[0m\u001b[0m\n",
      "\u001b[0;32m/usr/local/lib/python3.6/dist-packages/matplotlib/cbook/deprecation.py\u001b[0m in \u001b[0;36mwrapper\u001b[0;34m(*args, **kwargs)\u001b[0m\n\u001b[1;32m    449\u001b[0m                 \u001b[0;34m\"parameter will become keyword-only %(removal)s.\"\u001b[0m\u001b[0;34m,\u001b[0m\u001b[0;34m\u001b[0m\u001b[0;34m\u001b[0m\u001b[0m\n\u001b[1;32m    450\u001b[0m                 name=name, obj_type=f\"parameter of {func.__name__}()\")\n\u001b[0;32m--> 451\u001b[0;31m         \u001b[0;32mreturn\u001b[0m \u001b[0mfunc\u001b[0m\u001b[0;34m(\u001b[0m\u001b[0;34m*\u001b[0m\u001b[0margs\u001b[0m\u001b[0;34m,\u001b[0m \u001b[0;34m**\u001b[0m\u001b[0mkwargs\u001b[0m\u001b[0;34m)\u001b[0m\u001b[0;34m\u001b[0m\u001b[0;34m\u001b[0m\u001b[0m\n\u001b[0m\u001b[1;32m    452\u001b[0m \u001b[0;34m\u001b[0m\u001b[0m\n\u001b[1;32m    453\u001b[0m     \u001b[0;32mreturn\u001b[0m \u001b[0mwrapper\u001b[0m\u001b[0;34m\u001b[0m\u001b[0;34m\u001b[0m\u001b[0m\n",
      "\u001b[0;32m/usr/local/lib/python3.6/dist-packages/matplotlib/axis.py\u001b[0m in \u001b[0;36m_set_ticklabels\u001b[0;34m(self, labels, fontdict, minor, **kwargs)\u001b[0m\n\u001b[1;32m   1794\u001b[0m         \u001b[0;32mif\u001b[0m \u001b[0mfontdict\u001b[0m \u001b[0;32mis\u001b[0m \u001b[0;32mnot\u001b[0m \u001b[0;32mNone\u001b[0m\u001b[0;34m:\u001b[0m\u001b[0;34m\u001b[0m\u001b[0;34m\u001b[0m\u001b[0m\n\u001b[1;32m   1795\u001b[0m             \u001b[0mkwargs\u001b[0m\u001b[0;34m.\u001b[0m\u001b[0mupdate\u001b[0m\u001b[0;34m(\u001b[0m\u001b[0mfontdict\u001b[0m\u001b[0;34m)\u001b[0m\u001b[0;34m\u001b[0m\u001b[0;34m\u001b[0m\u001b[0m\n\u001b[0;32m-> 1796\u001b[0;31m         \u001b[0;32mreturn\u001b[0m \u001b[0mself\u001b[0m\u001b[0;34m.\u001b[0m\u001b[0mset_ticklabels\u001b[0m\u001b[0;34m(\u001b[0m\u001b[0mlabels\u001b[0m\u001b[0;34m,\u001b[0m \u001b[0mminor\u001b[0m\u001b[0;34m=\u001b[0m\u001b[0mminor\u001b[0m\u001b[0;34m,\u001b[0m \u001b[0;34m**\u001b[0m\u001b[0mkwargs\u001b[0m\u001b[0;34m)\u001b[0m\u001b[0;34m\u001b[0m\u001b[0;34m\u001b[0m\u001b[0m\n\u001b[0m\u001b[1;32m   1797\u001b[0m \u001b[0;34m\u001b[0m\u001b[0m\n\u001b[1;32m   1798\u001b[0m     \u001b[0;34m@\u001b[0m\u001b[0mcbook\u001b[0m\u001b[0;34m.\u001b[0m\u001b[0m_make_keyword_only\u001b[0m\u001b[0;34m(\u001b[0m\u001b[0;34m\"3.2\"\u001b[0m\u001b[0;34m,\u001b[0m \u001b[0;34m\"minor\"\u001b[0m\u001b[0;34m)\u001b[0m\u001b[0;34m\u001b[0m\u001b[0;34m\u001b[0m\u001b[0m\n",
      "\u001b[0;32m/usr/local/lib/python3.6/dist-packages/matplotlib/axis.py\u001b[0m in \u001b[0;36mset_ticklabels\u001b[0;34m(self, ticklabels, minor, **kwargs)\u001b[0m\n\u001b[1;32m   1716\u001b[0m             \u001b[0;32mif\u001b[0m \u001b[0mlen\u001b[0m\u001b[0;34m(\u001b[0m\u001b[0mlocator\u001b[0m\u001b[0;34m.\u001b[0m\u001b[0mlocs\u001b[0m\u001b[0;34m)\u001b[0m \u001b[0;34m!=\u001b[0m \u001b[0mlen\u001b[0m\u001b[0;34m(\u001b[0m\u001b[0mticklabels\u001b[0m\u001b[0;34m)\u001b[0m \u001b[0;32mand\u001b[0m \u001b[0mlen\u001b[0m\u001b[0;34m(\u001b[0m\u001b[0mticklabels\u001b[0m\u001b[0;34m)\u001b[0m \u001b[0;34m!=\u001b[0m \u001b[0;36m0\u001b[0m\u001b[0;34m:\u001b[0m\u001b[0;34m\u001b[0m\u001b[0;34m\u001b[0m\u001b[0m\n\u001b[1;32m   1717\u001b[0m                 raise ValueError(\n\u001b[0;32m-> 1718\u001b[0;31m                     \u001b[0;34m\"The number of FixedLocator locations\"\u001b[0m\u001b[0;34m\u001b[0m\u001b[0;34m\u001b[0m\u001b[0m\n\u001b[0m\u001b[1;32m   1719\u001b[0m                     \u001b[0;34mf\" ({len(locator.locs)}), usually from a call to\"\u001b[0m\u001b[0;34m\u001b[0m\u001b[0;34m\u001b[0m\u001b[0m\n\u001b[1;32m   1720\u001b[0m                     \u001b[0;34m\" set_ticks, does not match\"\u001b[0m\u001b[0;34m\u001b[0m\u001b[0;34m\u001b[0m\u001b[0m\n",
      "\u001b[0;31mValueError\u001b[0m: The number of FixedLocator locations (7), usually from a call to set_ticks, does not match the number of ticklabels (65)."
     ]
    }
   ],
   "source": [
    "# 第三个 DataFrame 中的缺失值\n",
    "msno.bar(dataframes[2],labels=True)"
   ]
  },
  {
   "cell_type": "markdown",
   "metadata": {},
   "source": [
    "> 与之前的 DataFrame 类似，此 DataFrame 在列中显示出几乎相同级别的缺失值。\n",
    "\n",
    "**可以按照此操作查看其他 DataFrame 的缺失值情况**"
   ]
  },
  {
   "cell_type": "markdown",
   "metadata": {},
   "source": [
    "### 4. 插补缺失值\n",
    "\n",
    "从上面的分析中，我们可以观察到，由于数据丢失，删除缺失的值或删除特性可能不是一个好的选择。为了克服这一障碍，我们需要进行插补。我们将研究两种可以用来处理缺失值的不同方法 ——\n",
    "\n",
    "- 均值插补\n",
    "- 迭代插补"
   ]
  },
  {
   "cell_type": "markdown",
   "metadata": {},
   "source": [
    "#### 4.1 均值插补\n",
    "\n",
    "在均值插补中，缺失值用缺失值 **所在列的平均值** 填充。从 sklearn.preprocessing 导入插补器以执行均值插补来填充缺失值 ——"
   ]
  },
  {
   "cell_type": "code",
   "execution_count": null,
   "metadata": {
    "colab": {},
    "colab_type": "code",
    "id": "uBn27NnEZzlW"
   },
   "outputs": [],
   "source": [
    "from sklearn.impute import SimpleImputer\n",
    "imputer = SimpleImputer(missing_values=np.nan, strategy='mean')"
   ]
  },
  {
   "cell_type": "markdown",
   "metadata": {},
   "source": [
    "在第一个 DataFrame 上拟合插补器，这将对缺失值的列执行均值插补 ——"
   ]
  },
  {
   "cell_type": "code",
   "execution_count": null,
   "metadata": {
    "colab": {},
    "colab_type": "code",
    "id": "VZbzkY6pkmcw"
   },
   "outputs": [],
   "source": [
    "mean_imputed_df1=pd.DataFrame(imputer.fit_transform(dataframes[0]),\n",
    "                              columns=dataframes[0].columns)"
   ]
  },
  {
   "cell_type": "markdown",
   "metadata": {},
   "source": [
    "执行插补后，使用以下代码段检查 DataFrame 中缺失的值 ——"
   ]
  },
  {
   "cell_type": "code",
   "execution_count": null,
   "metadata": {
    "colab": {
     "base_uri": "https://localhost:8080/",
     "height": 678
    },
    "colab_type": "code",
    "id": "T2aMjxSDkqhy",
    "outputId": "352819af-e266-483c-ea6c-164e4454bda1"
   },
   "outputs": [],
   "source": [
    "msno.bar(mean_imputed_df1,color='tab:green',labels=True)"
   ]
  },
  {
   "cell_type": "markdown",
   "metadata": {},
   "source": [
    "> x 轴表示 DataFrame 的特征，而 y 轴表示存在值的百分比。我们可以看到缺失的值已被填充。\n",
    "\n",
    "同样，对第二个 DataFrame 执行均值插补："
   ]
  },
  {
   "cell_type": "code",
   "execution_count": null,
   "metadata": {
    "colab": {
     "base_uri": "https://localhost:8080/",
     "height": 685
    },
    "colab_type": "code",
    "id": "7AXgpdKVkwVU",
    "outputId": "64c6ce5c-34b0-4bdf-8462-51ba4fa2df68"
   },
   "outputs": [],
   "source": [
    "# Imputation 第二个 Dataframe\n",
    "mean_imputed_df2=pd.DataFrame(imputer.fit_transform(dataframes[1]),\n",
    "                              columns=dataframes[1].columns)\n",
    "\n",
    "# 检查缺失值\n",
    "msno.bar(mean_imputed_df2,color='tab:green',labels=True)"
   ]
  },
  {
   "cell_type": "markdown",
   "metadata": {},
   "source": [
    "> x 轴表示 DataFrame 的特征，而 y 轴表示存在值的百分比。我们可以看到缺失的值已被填充。\n",
    "\n",
    "同样，对第三个 DataFrame 执行均值插补："
   ]
  },
  {
   "cell_type": "code",
   "execution_count": null,
   "metadata": {
    "colab": {
     "base_uri": "https://localhost:8080/",
     "height": 685
    },
    "colab_type": "code",
    "id": "FkbZMrDIlozp",
    "outputId": "30b7dd7d-112e-4e02-ddb3-eaf6955ae622"
   },
   "outputs": [],
   "source": [
    "# Imputation 第三个  Dataframe\n",
    "mean_imputed_df3=pd.DataFrame(imputer.fit_transform(dataframes[2]),\n",
    "                              columns=dataframes[2].columns)\n",
    "\n",
    "# 检查缺失值\n",
    "msno.bar(mean_imputed_df3,color='tab:green',labels=True)"
   ]
  },
  {
   "cell_type": "markdown",
   "metadata": {},
   "source": [
    "对剩余 2 个 DataFrame 执行均值插补"
   ]
  },
  {
   "cell_type": "code",
   "execution_count": null,
   "metadata": {},
   "outputs": [],
   "source": [
    "# Imputation 第四个  Dataframe\n",
    "mean_imputed_df4=pd.DataFrame(imputer.fit_transform(dataframes[3]), \n",
    "                              columns=dataframes[0].columns)\n",
    "\n",
    "# Imputation 第五个  Dataframe\n",
    "mean_imputed_df5=pd.DataFrame(imputer.fit_transform(dataframes[4]), \n",
    "                              columns=dataframes[1].columns)"
   ]
  },
  {
   "cell_type": "markdown",
   "metadata": {},
   "source": [
    "#### 4.2 迭代插补\n",
    "\n",
    "`迭代插补器` 将具有缺失值的每个特征建模为其他特征的函数，并使用该估计值来插补缺失值。这是在循环函数中完成的，其中缺失值的特征被定义为目标变量，其他特征被视为独立的。然后在（X，y）上拟合出 y 的已知值，并用于预测 y 的缺失值。\n",
    "\n",
    "从 sklearn.impute 导入 IterativeImputer 以及 sklearn.experimental 导入 enable_iterative_imputer 以填充缺失值："
   ]
  },
  {
   "cell_type": "code",
   "execution_count": null,
   "metadata": {
    "colab": {},
    "colab_type": "code",
    "id": "c8izWpeflwnO"
   },
   "outputs": [],
   "source": [
    "from sklearn.experimental import enable_iterative_imputer\n",
    "from sklearn.impute import IterativeImputer"
   ]
  },
  {
   "cell_type": "markdown",
   "metadata": {},
   "source": [
    "初始化迭代插补器："
   ]
  },
  {
   "cell_type": "code",
   "execution_count": null,
   "metadata": {
    "colab": {},
    "colab_type": "code",
    "id": "Xk8UVJfpl0Qa"
   },
   "outputs": [],
   "source": [
    "imputer = IterativeImputer()"
   ]
  },
  {
   "cell_type": "markdown",
   "metadata": {},
   "source": [
    "为 dataframe[0] 创建一个名为 iterative_imputed_df1 的 DataFrame，在迭代插补器的帮助下填充缺失的值："
   ]
  },
  {
   "cell_type": "code",
   "execution_count": null,
   "metadata": {
    "colab": {},
    "colab_type": "code",
    "id": "OI9Nn8Rql17r"
   },
   "outputs": [],
   "source": [
    "iterative_imputed_df1 = pd.DataFrame(imputer.fit_transform(dataframes[0]),\n",
    "                                     columns=dataframes[0].columns)"
   ]
  },
  {
   "cell_type": "markdown",
   "metadata": {},
   "source": [
    "完成插补后，检查 DataFrame 中是否有缺失值："
   ]
  },
  {
   "cell_type": "code",
   "execution_count": null,
   "metadata": {
    "colab": {
     "base_uri": "https://localhost:8080/",
     "height": 678
    },
    "colab_type": "code",
    "id": "RrwJNFVEl3cp",
    "outputId": "5cd03cdf-5459-4f1f-a34b-48f581096e3d"
   },
   "outputs": [],
   "source": [
    "msno.bar(iterative_imputed_df1,color='tab:green',labels=True)"
   ]
  },
  {
   "cell_type": "markdown",
   "metadata": {},
   "source": [
    "> x 轴表示 DataFrame 的特征，而 y 轴表示存在值的百分比。由此可以看出，缺失的值已被填充。\n",
    "\n",
    "对第二个 DataFrame（dataframes[1]）执行迭代插补："
   ]
  },
  {
   "cell_type": "code",
   "execution_count": null,
   "metadata": {
    "colab": {
     "base_uri": "https://localhost:8080/",
     "height": 685
    },
    "colab_type": "code",
    "id": "3sb8QS6Tl_j8",
    "outputId": "093dedcd-82b1-4130-92f5-cdecf1b5dedd"
   },
   "outputs": [],
   "source": [
    "# 为 dataframe[1] 创建一个 dataframe iterative_imputed_df2，\n",
    "# 其中缺失值在迭代插补器的帮助下填充\n",
    "iterative_imputed_df2 = pd.DataFrame(imputer.fit_transform(dataframes[1]),\n",
    "                                     columns=dataframes[1].columns)\n",
    "# 检查 dataframe 中的缺失值\n",
    "msno.bar(iterative_imputed_df2,color='tab:green',labels=True)"
   ]
  },
  {
   "cell_type": "markdown",
   "metadata": {},
   "source": [
    "> $x$ 轴表示 DataFrame 的特征，而 $y$ 轴表示存在值的百分比。由此可以看出，缺失的值已被填充。\n",
    "\n",
    "类似地，对第三个 DataFrame（`dataframes[2]`）执行迭代插补："
   ]
  },
  {
   "cell_type": "code",
   "execution_count": null,
   "metadata": {
    "colab": {
     "base_uri": "https://localhost:8080/",
     "height": 685
    },
    "colab_type": "code",
    "id": "dAZ_-DjCmPSl",
    "outputId": "1af96669-d0a8-4cd3-cb3b-1fe3f6e84c79"
   },
   "outputs": [],
   "source": [
    "# 为 dataframe[2] 创建一个 dataframe iterative_imputed_df3，\n",
    "# 其中缺失值在迭代插补器的帮助下填充\n",
    "iterative_imputed_df3 = pd.DataFrame(imputer.fit_transform(dataframes[2]),\n",
    "                                     columns=dataframes[2].columns)\n",
    "# 检查 dataframe 中的缺失值\n",
    "msno.bar(iterative_imputed_df3,color='tab:green',labels=True)"
   ]
  },
  {
   "cell_type": "markdown",
   "metadata": {},
   "source": [
    "最后，对剩余的 DataFrame 进行插补。"
   ]
  },
  {
   "cell_type": "code",
   "execution_count": null,
   "metadata": {},
   "outputs": [],
   "source": [
    "iterative_imputed_df4 = pd.DataFrame(imputer.fit_transform(dataframes[3]), \n",
    "                                     columns=dataframes[0].columns)\n",
    "\n",
    "iterative_imputed_df5 = pd.DataFrame(imputer.fit_transform(dataframes[4]), \n",
    "                                     columns=dataframes[1].columns)"
   ]
  },
  {
   "cell_type": "markdown",
   "metadata": {},
   "source": [
    "> 现在，我们已经对 DataFrame 进行了插补，可以得出结论，缺失值已经填充。"
   ]
  },
  {
   "cell_type": "markdown",
   "metadata": {},
   "source": [
    "### 5. 分割特征\n",
    "\n",
    "在上一节中，我们看到了缺失值是如何用不同类型的插补来填充的。\n",
    "\n",
    "在本节中，我们将把 DataFrame 中的因变量拆分为 `y`，将自变量拆分为 `X`。因变量是一个过程的结果。在我们的案例中，这个过程就是公司是否破产。自变量（也称为特征）是我们流程的输入，在本例中是其余变量。\n",
    "\n",
    "分割特征作为下一步的先导，在这一步中，我们选择决定因变量的最重要 X 变量。\n",
    "\n",
    "我们需要分割 **均值插补** DataFrame 的特征，如以下代码所示："
   ]
  },
  {
   "cell_type": "code",
   "execution_count": null,
   "metadata": {},
   "outputs": [],
   "source": [
    "# 第一个 DataFrame\n",
    "X0=mean_imputed_df1.drop('Y',axis=1)\n",
    "y0=mean_imputed_df1.Y\n",
    "\n",
    "# 第二个 DataFrame\n",
    "X1=mean_imputed_df2.drop('Y',axis=1)\n",
    "y1=mean_imputed_df2.Y\n",
    "\n",
    "# 第三个 DataFrame\n",
    "X2=mean_imputed_df3.drop('Y',axis=1)\n",
    "y2=mean_imputed_df3.Y\n",
    "\n",
    "# 第四个 DataFrame\n",
    "X6=mean_imputed_df4.drop('Y',axis=1)\n",
    "y6=mean_imputed_df4.Y\n",
    "\n",
    "# 第五个 DataFrame\n",
    "X7=mean_imputed_df5.drop('Y',axis=1)\n",
    "y7=mean_imputed_df5.Y"
   ]
  },
  {
   "cell_type": "markdown",
   "metadata": {},
   "source": [
    "接下来，我们需要分割 **迭代插补** DataFrame 的功能，如以下代码片段所示："
   ]
  },
  {
   "cell_type": "code",
   "execution_count": null,
   "metadata": {},
   "outputs": [],
   "source": [
    "# 第一个 DataFrame\n",
    "X3=iterative_imputed_df1.drop('Y',axis=1)\n",
    "y3=iterative_imputed_df1.Y\n",
    "\n",
    "# 第二个 DataFrame\n",
    "X4=iterative_imputed_df2.drop('Y',axis=1)\n",
    "y4=iterative_imputed_df2.Y\n",
    "\n",
    "# 第三个 DataFrame\n",
    "X5=iterative_imputed_df3.drop('Y',axis=1)\n",
    "y5=iterative_imputed_df3.Y\n",
    "\n",
    "# 第四个 DataFrame\n",
    "X8=iterative_imputed_df4.drop('Y',axis=1)\n",
    "y8=iterative_imputed_df4.Y\n",
    "\n",
    "# 第五个 DataFrame\n",
    "X9=iterative_imputed_df5.drop('Y',axis=1)\n",
    "y9=iterative_imputed_df5.Y"
   ]
  },
  {
   "cell_type": "markdown",
   "metadata": {},
   "source": [
    "### 6. 拉索特征选择\n",
    "\n",
    "**特征选择** 是建立任何机器学习模型之前要执行的最重要步骤之一。在数据集中，**并非所有列都会对因变量产生影响**。如果我们将所有不相关的特征都包含在模型构建中，那么我们最终将构建一个性能较差的模型。这就需要执行特征选择。在本节中，我们将使用 **拉索**（lasso） 方法执行特征选择。拉索正则化是一种特征选择方法，其中不相关特征的系数设置为零。通过这样做，我们删除了不重要的特征，只包括其余的重要特征，以供进一步分析。让我们对均值和迭代插补 DataFrame 执行拉索正则化。"
   ]
  },
  {
   "cell_type": "markdown",
   "metadata": {},
   "source": [
    "#### 6.1 均值插补 DataFrame 的拉索正则化\n",
    "\n",
    "让我们对均值插补 DataFrame 1 执行拉索正则化。\n",
    "\n",
    "第一步，从 sklearn.linear_model 导入 Lasso 以及从 sklearn.feature_selection 导入 SelectFromModel："
   ]
  },
  {
   "cell_type": "code",
   "execution_count": null,
   "metadata": {},
   "outputs": [],
   "source": [
    "from sklearn.linear_model import Lasso\n",
    "from sklearn.feature_selection import SelectFromModel"
   ]
  },
  {
   "cell_type": "markdown",
   "metadata": {},
   "source": [
    "我们将在名为 features_names 的列表中单独存储特征名称："
   ]
  },
  {
   "cell_type": "code",
   "execution_count": null,
   "metadata": {},
   "outputs": [],
   "source": [
    "features_names=X0.columns.tolist()"
   ]
  },
  {
   "cell_type": "markdown",
   "metadata": {},
   "source": [
    "初始化拉索方法"
   ]
  },
  {
   "cell_type": "code",
   "execution_count": null,
   "metadata": {},
   "outputs": [],
   "source": [
    "lasso = Lasso(alpha=0.01 ,positive=True)"
   ]
  },
  {
   "cell_type": "markdown",
   "metadata": {},
   "source": [
    "为 X0 和 y0 拟合拉索："
   ]
  },
  {
   "cell_type": "code",
   "execution_count": null,
   "metadata": {},
   "outputs": [],
   "source": [
    "lasso.fit(X0,y0)"
   ]
  },
  {
   "cell_type": "markdown",
   "metadata": {},
   "source": [
    "拟合拉索后获取特征名称："
   ]
  },
  {
   "cell_type": "code",
   "execution_count": null,
   "metadata": {},
   "outputs": [],
   "source": [
    "coef_list=sorted(zip(map(lambda x: round(x,4), \n",
    "                         lasso.coef_.reshape(-1)), \n",
    "                     features_names),reverse=True)\n",
    "coef_list[0:5]"
   ]
  },
  {
   "cell_type": "markdown",
   "metadata": {},
   "source": [
    "> 通过执行拉索正则化，我们最终只得到 **64** 个重要特征中的 **3** 个。重要的列如下：\n",
    "\n",
    "- `X2`：总负债/总资产\n",
    "- `X34`：营业费用/总负债\n",
    "- `X51`：短期负债/总资产\n",
    "\n",
    ">列 `X9` 和 `X8` 的重要性为零。\n",
    "\n",
    "同样，我们将对均值插补 DataFrame 2 执行拉索正则化："
   ]
  },
  {
   "cell_type": "code",
   "execution_count": null,
   "metadata": {},
   "outputs": [],
   "source": [
    "features_names=X1.columns.tolist()\n",
    "\n",
    "# 初始化拉索\n",
    "lasso = Lasso(alpha=0.01 ,positive=True)\n",
    "\n",
    "# 为 X1 和 y1 拟合拉索\n",
    "lasso.fit(X1,y1)\n",
    "\n",
    "# 拟合拉索后获取特征名称：\n",
    "coef_list=sorted(zip(map(lambda x: round(x,4), \n",
    "                         lasso.coef_.reshape(-1)),\n",
    "                     features_names),reverse=True)\n",
    "\n",
    "coef_list[0:5]"
   ]
  },
  {
   "cell_type": "markdown",
   "metadata": {},
   "source": [
    "> 通过执行拉索正则化，我们最终只得到 **64** 个重要特征中的 **2** 个。重要的列如下：\n",
    "\n",
    "- `X2`：总负债/总资产\n",
    "- `X49`：EBITDA（经营活动利润-折旧）/销售额\n",
    "\n",
    "> 列 `X9`、`X8` 和 `X7` 的重要性为零。\n",
    "\n",
    "**您可以根据上面的操作对其余的 DataFrame 进行拉索特征选择**"
   ]
  },
  {
   "cell_type": "markdown",
   "metadata": {},
   "source": [
    "#### 6.2 迭代插补 DataFrame 的拉索正则化\n",
    "\n",
    "现在，我们将对迭代插补 DataFrame 1 执行拉索正则化。\n",
    "\n",
    "首先，将独立的特征名称存储在名为 features_names 的列表中："
   ]
  },
  {
   "cell_type": "code",
   "execution_count": null,
   "metadata": {},
   "outputs": [],
   "source": [
    "features_names=X3.columns.tolist()"
   ]
  },
  {
   "cell_type": "markdown",
   "metadata": {},
   "source": [
    "初始化拉索回归"
   ]
  },
  {
   "cell_type": "code",
   "execution_count": null,
   "metadata": {},
   "outputs": [],
   "source": [
    "lasso = Lasso(alpha=0.01 ,positive=True)"
   ]
  },
  {
   "cell_type": "markdown",
   "metadata": {},
   "source": [
    "拟合模型"
   ]
  },
  {
   "cell_type": "code",
   "execution_count": null,
   "metadata": {},
   "outputs": [],
   "source": [
    "lasso.fit(X3,y3)"
   ]
  },
  {
   "cell_type": "markdown",
   "metadata": {},
   "source": [
    "得到结果特征列"
   ]
  },
  {
   "cell_type": "code",
   "execution_count": null,
   "metadata": {},
   "outputs": [],
   "source": [
    "coef_list=sorted(zip(map(lambda x: round(x,4), \n",
    "                         lasso.coef_.reshape(-1)), \n",
    "                     features_names),reverse=True)\n",
    "coef_list [0:5]"
   ]
  },
  {
   "cell_type": "markdown",
   "metadata": {},
   "source": [
    "> 通过执行拉索正则化，我们最终只得到 **64** 个重要特征中的 **2** 个。重要的列如下：\n",
    "\n",
    "- `X2`：总负债/总资产\n",
    "- `X34`：营业费用/总负债\n",
    "\n",
    "> 列 `X9`、`X8` 和 `X7` 的重要性为零。\n",
    "\n",
    "类似地，对迭代插补 DataFrame 2 执行拉索正则化："
   ]
  },
  {
   "cell_type": "code",
   "execution_count": null,
   "metadata": {},
   "outputs": [],
   "source": [
    "features_names=X4.columns.tolist()\n",
    "\n",
    "lasso = Lasso(alpha=0.01 ,positive=True)\n",
    "\n",
    "lasso.fit(X4,y4)\n",
    "\n",
    "coef_list=sorted(zip(map(lambda x: round(x,4), \n",
    "                         lasso.coef_.reshape(-1)), \n",
    "                     features_names),reverse=True)\n",
    "coef_list[0:5]"
   ]
  },
  {
   "cell_type": "markdown",
   "metadata": {},
   "source": [
    "> 通过执行拉索正则化，我们最终只得到 **64** 个重要特征中的 **2** 个。重要的列如下：\n",
    "\n",
    "- `X2`：总负债/总资产\n",
    "- `X49`：EBITDA（经营活动利润 - 折旧）/ 销售额\n",
    "\n",
    "> 列 `X9`、`X8` 和 `X7` 的重要性为零。\n",
    "\n",
    "**您可以根据上面的操作对其余的 DataFrame 进行拉索特征选择**"
   ]
  },
  {
   "cell_type": "markdown",
   "metadata": {},
   "source": [
    "### 实验小结\n",
    "\n",
    "在本实验中，我们学习了如何将 ARFF 文件导入 pandas 的 DataFrame。在 DataFrame 上执行 Pandas 分析以获得相关特征。我们使用 missingno 软件包检测缺失值，并使用均值和迭代插补方法进行插补。为了找到导致破产的重要特征，我们进行了拉索正则化。通过拉索正则化，我们发现哪些特征是导致破产的原因。尽管我们在所有五个数据帧中获得了不同的重要特性，但其中一个特性出现在所有五个数据帧中，这只是 **总负债与总资产的比率**。这一特定比率在导致破产方面具有非常重要的意义。然而，我们的分析并不完全，因为我们只找到了影响破产的因素，而没有找到方向（当特定比率增加或减少时是否会发生破产）。为了全面了解这些因素，我们需要建立一个分类模型来扩展我们的分析。然而，这个过程超出了本实验的范围。"
   ]
  }
 ],
 "metadata": {
  "accelerator": "GPU",
  "colab": {
   "name": "Exercise4.04.ipynb",
   "provenance": []
  },
  "kernelspec": {
   "display_name": "Python 3",
   "language": "python",
   "name": "python3"
  },
  "language_info": {
   "codemirror_mode": {
    "name": "ipython",
    "version": 3
   },
   "file_extension": ".py",
   "mimetype": "text/x-python",
   "name": "python",
   "nbconvert_exporter": "python",
   "pygments_lexer": "ipython3",
   "version": "3.6.9"
  },
  "toc": {
   "base_numbering": 1,
   "nav_menu": {},
   "number_sections": false,
   "sideBar": true,
   "skip_h1_title": true,
   "title_cell": "Table of Contents",
   "title_sidebar": "Contents",
   "toc_cell": false,
   "toc_position": {
    "height": "calc(100% - 180px)",
    "left": "10px",
    "top": "150px",
    "width": "311px"
   },
   "toc_section_display": true,
   "toc_window_display": true
  }
 },
 "nbformat": 4,
 "nbformat_minor": 1
}
